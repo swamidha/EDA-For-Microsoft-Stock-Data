{
 "cells": [
  {
   "cell_type": "markdown",
   "id": "d7c8a943",
   "metadata": {},
   "source": [
    "Importing Required Libraries"
   ]
  },
  {
   "cell_type": "code",
   "execution_count": 1,
   "id": "5b3590db",
   "metadata": {},
   "outputs": [],
   "source": [
    "import numpy as np\n",
    "import pandas as pd\n",
    "import matplotlib.pyplot as plt\n",
    "import seaborn as sns\n",
    "\n",
    "from sklearn.metrics import confusion_matrix\n",
    "from sklearn.linear_model import LogisticRegression\n",
    "from sklearn.model_selection import train_test_split\n"
   ]
  },
  {
   "cell_type": "code",
   "execution_count": null,
   "id": "48ce9737",
   "metadata": {},
   "outputs": [],
   "source": []
  },
  {
   "cell_type": "markdown",
   "id": "dd5453e8",
   "metadata": {},
   "source": [
    "Read Data"
   ]
  },
  {
   "cell_type": "code",
   "execution_count": 3,
   "id": "ee7a2788",
   "metadata": {},
   "outputs": [
    {
     "data": {
      "text/html": [
       "<div>\n",
       "<style scoped>\n",
       "    .dataframe tbody tr th:only-of-type {\n",
       "        vertical-align: middle;\n",
       "    }\n",
       "\n",
       "    .dataframe tbody tr th {\n",
       "        vertical-align: top;\n",
       "    }\n",
       "\n",
       "    .dataframe thead th {\n",
       "        text-align: right;\n",
       "    }\n",
       "</style>\n",
       "<table border=\"1\" class=\"dataframe\">\n",
       "  <thead>\n",
       "    <tr style=\"text-align: right;\">\n",
       "      <th></th>\n",
       "      <th>Date</th>\n",
       "      <th>Open</th>\n",
       "      <th>High</th>\n",
       "      <th>Low</th>\n",
       "      <th>Close</th>\n",
       "      <th>Adj Close</th>\n",
       "      <th>Volume</th>\n",
       "    </tr>\n",
       "  </thead>\n",
       "  <tbody>\n",
       "    <tr>\n",
       "      <th>0</th>\n",
       "      <td>1986-03-13</td>\n",
       "      <td>0.088542</td>\n",
       "      <td>0.101563</td>\n",
       "      <td>0.088542</td>\n",
       "      <td>0.097222</td>\n",
       "      <td>0.061378</td>\n",
       "      <td>1031788800</td>\n",
       "    </tr>\n",
       "    <tr>\n",
       "      <th>1</th>\n",
       "      <td>1986-03-14</td>\n",
       "      <td>0.097222</td>\n",
       "      <td>0.102431</td>\n",
       "      <td>0.097222</td>\n",
       "      <td>0.100694</td>\n",
       "      <td>0.063570</td>\n",
       "      <td>308160000</td>\n",
       "    </tr>\n",
       "    <tr>\n",
       "      <th>2</th>\n",
       "      <td>1986-03-17</td>\n",
       "      <td>0.100694</td>\n",
       "      <td>0.103299</td>\n",
       "      <td>0.100694</td>\n",
       "      <td>0.102431</td>\n",
       "      <td>0.064667</td>\n",
       "      <td>133171200</td>\n",
       "    </tr>\n",
       "    <tr>\n",
       "      <th>3</th>\n",
       "      <td>1986-03-18</td>\n",
       "      <td>0.102431</td>\n",
       "      <td>0.103299</td>\n",
       "      <td>0.098958</td>\n",
       "      <td>0.099826</td>\n",
       "      <td>0.063022</td>\n",
       "      <td>67766400</td>\n",
       "    </tr>\n",
       "    <tr>\n",
       "      <th>4</th>\n",
       "      <td>1986-03-19</td>\n",
       "      <td>0.099826</td>\n",
       "      <td>0.100694</td>\n",
       "      <td>0.097222</td>\n",
       "      <td>0.098090</td>\n",
       "      <td>0.061926</td>\n",
       "      <td>47894400</td>\n",
       "    </tr>\n",
       "  </tbody>\n",
       "</table>\n",
       "</div>"
      ],
      "text/plain": [
       "         Date      Open      High       Low     Close  Adj Close      Volume\n",
       "0  1986-03-13  0.088542  0.101563  0.088542  0.097222   0.061378  1031788800\n",
       "1  1986-03-14  0.097222  0.102431  0.097222  0.100694   0.063570   308160000\n",
       "2  1986-03-17  0.100694  0.103299  0.100694  0.102431   0.064667   133171200\n",
       "3  1986-03-18  0.102431  0.103299  0.098958  0.099826   0.063022    67766400\n",
       "4  1986-03-19  0.099826  0.100694  0.097222  0.098090   0.061926    47894400"
      ]
     },
     "execution_count": 3,
     "metadata": {},
     "output_type": "execute_result"
    }
   ],
   "source": [
    "ms = pd.read_csv(r\"C:\\Users\\DELL\\Desktop\\Stock Market Analysis\\MSFT.csv\")\n",
    "ms.head()"
   ]
  },
  {
   "cell_type": "code",
   "execution_count": null,
   "id": "4ccd6b33",
   "metadata": {},
   "outputs": [],
   "source": []
  },
  {
   "cell_type": "markdown",
   "id": "b7f50983",
   "metadata": {},
   "source": [
    "Getting to know data"
   ]
  },
  {
   "cell_type": "code",
   "execution_count": 4,
   "id": "8d0eb1d6",
   "metadata": {},
   "outputs": [
    {
     "data": {
      "text/plain": [
       "(9008, 7)"
      ]
     },
     "execution_count": 4,
     "metadata": {},
     "output_type": "execute_result"
    }
   ],
   "source": [
    "ms.shape"
   ]
  },
  {
   "cell_type": "code",
   "execution_count": 5,
   "id": "1e3b16a8",
   "metadata": {},
   "outputs": [
    {
     "name": "stdout",
     "output_type": "stream",
     "text": [
      "<class 'pandas.core.frame.DataFrame'>\n",
      "RangeIndex: 9008 entries, 0 to 9007\n",
      "Data columns (total 7 columns):\n",
      " #   Column     Non-Null Count  Dtype  \n",
      "---  ------     --------------  -----  \n",
      " 0   Date       9008 non-null   object \n",
      " 1   Open       9008 non-null   float64\n",
      " 2   High       9008 non-null   float64\n",
      " 3   Low        9008 non-null   float64\n",
      " 4   Close      9008 non-null   float64\n",
      " 5   Adj Close  9008 non-null   float64\n",
      " 6   Volume     9008 non-null   int64  \n",
      "dtypes: float64(5), int64(1), object(1)\n",
      "memory usage: 492.8+ KB\n"
     ]
    }
   ],
   "source": [
    "ms.info()"
   ]
  },
  {
   "cell_type": "code",
   "execution_count": null,
   "id": "18c6c835",
   "metadata": {},
   "outputs": [],
   "source": []
  },
  {
   "cell_type": "markdown",
   "id": "70974b1a",
   "metadata": {},
   "source": [
    "Showing Basics Statistics"
   ]
  },
  {
   "cell_type": "markdown",
   "id": "2d0dbea0",
   "metadata": {},
   "source": [
    "Now that you’ve seen what data types are in your dataset, it’s time to get an overview of the values each column contains. To do this with .describe():"
   ]
  },
  {
   "cell_type": "code",
   "execution_count": 6,
   "id": "9737b9dd",
   "metadata": {},
   "outputs": [
    {
     "data": {
      "text/html": [
       "<div>\n",
       "<style scoped>\n",
       "    .dataframe tbody tr th:only-of-type {\n",
       "        vertical-align: middle;\n",
       "    }\n",
       "\n",
       "    .dataframe tbody tr th {\n",
       "        vertical-align: top;\n",
       "    }\n",
       "\n",
       "    .dataframe thead th {\n",
       "        text-align: right;\n",
       "    }\n",
       "</style>\n",
       "<table border=\"1\" class=\"dataframe\">\n",
       "  <thead>\n",
       "    <tr style=\"text-align: right;\">\n",
       "      <th></th>\n",
       "      <th>Open</th>\n",
       "      <th>High</th>\n",
       "      <th>Low</th>\n",
       "      <th>Close</th>\n",
       "      <th>Adj Close</th>\n",
       "      <th>Volume</th>\n",
       "    </tr>\n",
       "  </thead>\n",
       "  <tbody>\n",
       "    <tr>\n",
       "      <th>count</th>\n",
       "      <td>9008.000000</td>\n",
       "      <td>9008.000000</td>\n",
       "      <td>9008.000000</td>\n",
       "      <td>9008.000000</td>\n",
       "      <td>9008.000000</td>\n",
       "      <td>9.008000e+03</td>\n",
       "    </tr>\n",
       "    <tr>\n",
       "      <th>mean</th>\n",
       "      <td>39.100634</td>\n",
       "      <td>39.509320</td>\n",
       "      <td>38.688871</td>\n",
       "      <td>39.113846</td>\n",
       "      <td>34.052517</td>\n",
       "      <td>5.893725e+07</td>\n",
       "    </tr>\n",
       "    <tr>\n",
       "      <th>std</th>\n",
       "      <td>54.693955</td>\n",
       "      <td>55.194788</td>\n",
       "      <td>54.185887</td>\n",
       "      <td>54.725668</td>\n",
       "      <td>54.945451</td>\n",
       "      <td>3.853809e+07</td>\n",
       "    </tr>\n",
       "    <tr>\n",
       "      <th>min</th>\n",
       "      <td>0.088542</td>\n",
       "      <td>0.092014</td>\n",
       "      <td>0.088542</td>\n",
       "      <td>0.090278</td>\n",
       "      <td>0.056994</td>\n",
       "      <td>2.304000e+06</td>\n",
       "    </tr>\n",
       "    <tr>\n",
       "      <th>25%</th>\n",
       "      <td>3.958985</td>\n",
       "      <td>4.007813</td>\n",
       "      <td>3.935547</td>\n",
       "      <td>3.960938</td>\n",
       "      <td>2.500626</td>\n",
       "      <td>3.481388e+07</td>\n",
       "    </tr>\n",
       "    <tr>\n",
       "      <th>50%</th>\n",
       "      <td>26.750000</td>\n",
       "      <td>27.030001</td>\n",
       "      <td>26.469999</td>\n",
       "      <td>26.745000</td>\n",
       "      <td>18.841834</td>\n",
       "      <td>5.222880e+07</td>\n",
       "    </tr>\n",
       "    <tr>\n",
       "      <th>75%</th>\n",
       "      <td>39.113751</td>\n",
       "      <td>39.783438</td>\n",
       "      <td>38.502499</td>\n",
       "      <td>39.115313</td>\n",
       "      <td>28.682776</td>\n",
       "      <td>7.281968e+07</td>\n",
       "    </tr>\n",
       "    <tr>\n",
       "      <th>max</th>\n",
       "      <td>344.619995</td>\n",
       "      <td>349.670013</td>\n",
       "      <td>342.200012</td>\n",
       "      <td>343.109985</td>\n",
       "      <td>343.109985</td>\n",
       "      <td>1.031789e+09</td>\n",
       "    </tr>\n",
       "  </tbody>\n",
       "</table>\n",
       "</div>"
      ],
      "text/plain": [
       "              Open         High          Low        Close    Adj Close  \\\n",
       "count  9008.000000  9008.000000  9008.000000  9008.000000  9008.000000   \n",
       "mean     39.100634    39.509320    38.688871    39.113846    34.052517   \n",
       "std      54.693955    55.194788    54.185887    54.725668    54.945451   \n",
       "min       0.088542     0.092014     0.088542     0.090278     0.056994   \n",
       "25%       3.958985     4.007813     3.935547     3.960938     2.500626   \n",
       "50%      26.750000    27.030001    26.469999    26.745000    18.841834   \n",
       "75%      39.113751    39.783438    38.502499    39.115313    28.682776   \n",
       "max     344.619995   349.670013   342.200012   343.109985   343.109985   \n",
       "\n",
       "             Volume  \n",
       "count  9.008000e+03  \n",
       "mean   5.893725e+07  \n",
       "std    3.853809e+07  \n",
       "min    2.304000e+06  \n",
       "25%    3.481388e+07  \n",
       "50%    5.222880e+07  \n",
       "75%    7.281968e+07  \n",
       "max    1.031789e+09  "
      ]
     },
     "execution_count": 6,
     "metadata": {},
     "output_type": "execute_result"
    }
   ],
   "source": [
    "ms.describe()"
   ]
  },
  {
   "cell_type": "code",
   "execution_count": 7,
   "id": "1ff888a1",
   "metadata": {},
   "outputs": [
    {
     "data": {
      "text/html": [
       "<div>\n",
       "<style scoped>\n",
       "    .dataframe tbody tr th:only-of-type {\n",
       "        vertical-align: middle;\n",
       "    }\n",
       "\n",
       "    .dataframe tbody tr th {\n",
       "        vertical-align: top;\n",
       "    }\n",
       "\n",
       "    .dataframe thead th {\n",
       "        text-align: right;\n",
       "    }\n",
       "</style>\n",
       "<table border=\"1\" class=\"dataframe\">\n",
       "  <thead>\n",
       "    <tr style=\"text-align: right;\">\n",
       "      <th></th>\n",
       "      <th>Date</th>\n",
       "      <th>Open</th>\n",
       "      <th>High</th>\n",
       "      <th>Low</th>\n",
       "      <th>Close</th>\n",
       "      <th>Adj Close</th>\n",
       "      <th>Volume</th>\n",
       "    </tr>\n",
       "  </thead>\n",
       "  <tbody>\n",
       "    <tr>\n",
       "      <th>1</th>\n",
       "      <td>1986-03-14</td>\n",
       "      <td>0.097222</td>\n",
       "      <td>0.102431</td>\n",
       "      <td>0.097222</td>\n",
       "      <td>0.100694</td>\n",
       "      <td>0.063570</td>\n",
       "      <td>308160000</td>\n",
       "    </tr>\n",
       "    <tr>\n",
       "      <th>2</th>\n",
       "      <td>1986-03-17</td>\n",
       "      <td>0.100694</td>\n",
       "      <td>0.103299</td>\n",
       "      <td>0.100694</td>\n",
       "      <td>0.102431</td>\n",
       "      <td>0.064667</td>\n",
       "      <td>133171200</td>\n",
       "    </tr>\n",
       "    <tr>\n",
       "      <th>3</th>\n",
       "      <td>1986-03-18</td>\n",
       "      <td>0.102431</td>\n",
       "      <td>0.103299</td>\n",
       "      <td>0.098958</td>\n",
       "      <td>0.099826</td>\n",
       "      <td>0.063022</td>\n",
       "      <td>67766400</td>\n",
       "    </tr>\n",
       "    <tr>\n",
       "      <th>4</th>\n",
       "      <td>1986-03-19</td>\n",
       "      <td>0.099826</td>\n",
       "      <td>0.100694</td>\n",
       "      <td>0.097222</td>\n",
       "      <td>0.098090</td>\n",
       "      <td>0.061926</td>\n",
       "      <td>47894400</td>\n",
       "    </tr>\n",
       "    <tr>\n",
       "      <th>5</th>\n",
       "      <td>1986-03-20</td>\n",
       "      <td>0.098090</td>\n",
       "      <td>0.098090</td>\n",
       "      <td>0.094618</td>\n",
       "      <td>0.095486</td>\n",
       "      <td>0.060282</td>\n",
       "      <td>58435200</td>\n",
       "    </tr>\n",
       "    <tr>\n",
       "      <th>...</th>\n",
       "      <td>...</td>\n",
       "      <td>...</td>\n",
       "      <td>...</td>\n",
       "      <td>...</td>\n",
       "      <td>...</td>\n",
       "      <td>...</td>\n",
       "      <td>...</td>\n",
       "    </tr>\n",
       "    <tr>\n",
       "      <th>9003</th>\n",
       "      <td>2021-11-30</td>\n",
       "      <td>335.320007</td>\n",
       "      <td>337.779999</td>\n",
       "      <td>328.989990</td>\n",
       "      <td>330.589996</td>\n",
       "      <td>330.589996</td>\n",
       "      <td>42885600</td>\n",
       "    </tr>\n",
       "    <tr>\n",
       "      <th>9004</th>\n",
       "      <td>2021-12-01</td>\n",
       "      <td>335.130005</td>\n",
       "      <td>339.279999</td>\n",
       "      <td>329.390015</td>\n",
       "      <td>330.079987</td>\n",
       "      <td>330.079987</td>\n",
       "      <td>33337600</td>\n",
       "    </tr>\n",
       "    <tr>\n",
       "      <th>9005</th>\n",
       "      <td>2021-12-02</td>\n",
       "      <td>330.299988</td>\n",
       "      <td>333.489990</td>\n",
       "      <td>327.799988</td>\n",
       "      <td>329.489990</td>\n",
       "      <td>329.489990</td>\n",
       "      <td>30766000</td>\n",
       "    </tr>\n",
       "    <tr>\n",
       "      <th>9006</th>\n",
       "      <td>2021-12-03</td>\n",
       "      <td>331.989990</td>\n",
       "      <td>332.700012</td>\n",
       "      <td>318.029999</td>\n",
       "      <td>323.010010</td>\n",
       "      <td>323.010010</td>\n",
       "      <td>41755900</td>\n",
       "    </tr>\n",
       "    <tr>\n",
       "      <th>9007</th>\n",
       "      <td>2021-12-06</td>\n",
       "      <td>323.950012</td>\n",
       "      <td>327.450012</td>\n",
       "      <td>319.230011</td>\n",
       "      <td>326.190002</td>\n",
       "      <td>326.190002</td>\n",
       "      <td>30007300</td>\n",
       "    </tr>\n",
       "  </tbody>\n",
       "</table>\n",
       "<p>9001 rows × 7 columns</p>\n",
       "</div>"
      ],
      "text/plain": [
       "            Date        Open        High         Low       Close   Adj Close  \\\n",
       "1     1986-03-14    0.097222    0.102431    0.097222    0.100694    0.063570   \n",
       "2     1986-03-17    0.100694    0.103299    0.100694    0.102431    0.064667   \n",
       "3     1986-03-18    0.102431    0.103299    0.098958    0.099826    0.063022   \n",
       "4     1986-03-19    0.099826    0.100694    0.097222    0.098090    0.061926   \n",
       "5     1986-03-20    0.098090    0.098090    0.094618    0.095486    0.060282   \n",
       "...          ...         ...         ...         ...         ...         ...   \n",
       "9003  2021-11-30  335.320007  337.779999  328.989990  330.589996  330.589996   \n",
       "9004  2021-12-01  335.130005  339.279999  329.390015  330.079987  330.079987   \n",
       "9005  2021-12-02  330.299988  333.489990  327.799988  329.489990  329.489990   \n",
       "9006  2021-12-03  331.989990  332.700012  318.029999  323.010010  323.010010   \n",
       "9007  2021-12-06  323.950012  327.450012  319.230011  326.190002  326.190002   \n",
       "\n",
       "         Volume  \n",
       "1     308160000  \n",
       "2     133171200  \n",
       "3      67766400  \n",
       "4      47894400  \n",
       "5      58435200  \n",
       "...         ...  \n",
       "9003   42885600  \n",
       "9004   33337600  \n",
       "9005   30766000  \n",
       "9006   41755900  \n",
       "9007   30007300  \n",
       "\n",
       "[9001 rows x 7 columns]"
      ]
     },
     "execution_count": 7,
     "metadata": {},
     "output_type": "execute_result"
    }
   ],
   "source": [
    "current_decade =ms[ms[\"Low\"] > 0.091146]\n",
    "current_decade"
   ]
  },
  {
   "cell_type": "code",
   "execution_count": 8,
   "id": "7189a439",
   "metadata": {},
   "outputs": [
    {
     "data": {
      "text/html": [
       "<div>\n",
       "<style scoped>\n",
       "    .dataframe tbody tr th:only-of-type {\n",
       "        vertical-align: middle;\n",
       "    }\n",
       "\n",
       "    .dataframe tbody tr th {\n",
       "        vertical-align: top;\n",
       "    }\n",
       "\n",
       "    .dataframe thead th {\n",
       "        text-align: right;\n",
       "    }\n",
       "</style>\n",
       "<table border=\"1\" class=\"dataframe\">\n",
       "  <thead>\n",
       "    <tr style=\"text-align: right;\">\n",
       "      <th></th>\n",
       "      <th>Date</th>\n",
       "      <th>Open</th>\n",
       "      <th>High</th>\n",
       "      <th>Low</th>\n",
       "      <th>Close</th>\n",
       "      <th>Adj Close</th>\n",
       "      <th>Volume</th>\n",
       "    </tr>\n",
       "  </thead>\n",
       "  <tbody>\n",
       "    <tr>\n",
       "      <th>0</th>\n",
       "      <td>1986-03-13</td>\n",
       "      <td>0.088542</td>\n",
       "      <td>0.101563</td>\n",
       "      <td>0.088542</td>\n",
       "      <td>0.097222</td>\n",
       "      <td>0.061378</td>\n",
       "      <td>1031788800</td>\n",
       "    </tr>\n",
       "    <tr>\n",
       "      <th>1</th>\n",
       "      <td>1986-03-14</td>\n",
       "      <td>0.097222</td>\n",
       "      <td>0.102431</td>\n",
       "      <td>0.097222</td>\n",
       "      <td>0.100694</td>\n",
       "      <td>0.063570</td>\n",
       "      <td>308160000</td>\n",
       "    </tr>\n",
       "    <tr>\n",
       "      <th>2</th>\n",
       "      <td>1986-03-17</td>\n",
       "      <td>0.100694</td>\n",
       "      <td>0.103299</td>\n",
       "      <td>0.100694</td>\n",
       "      <td>0.102431</td>\n",
       "      <td>0.064667</td>\n",
       "      <td>133171200</td>\n",
       "    </tr>\n",
       "    <tr>\n",
       "      <th>3</th>\n",
       "      <td>1986-03-18</td>\n",
       "      <td>0.102431</td>\n",
       "      <td>0.103299</td>\n",
       "      <td>0.098958</td>\n",
       "      <td>0.099826</td>\n",
       "      <td>0.063022</td>\n",
       "      <td>67766400</td>\n",
       "    </tr>\n",
       "    <tr>\n",
       "      <th>4</th>\n",
       "      <td>1986-03-19</td>\n",
       "      <td>0.099826</td>\n",
       "      <td>0.100694</td>\n",
       "      <td>0.097222</td>\n",
       "      <td>0.098090</td>\n",
       "      <td>0.061926</td>\n",
       "      <td>47894400</td>\n",
       "    </tr>\n",
       "    <tr>\n",
       "      <th>...</th>\n",
       "      <td>...</td>\n",
       "      <td>...</td>\n",
       "      <td>...</td>\n",
       "      <td>...</td>\n",
       "      <td>...</td>\n",
       "      <td>...</td>\n",
       "      <td>...</td>\n",
       "    </tr>\n",
       "    <tr>\n",
       "      <th>9003</th>\n",
       "      <td>2021-11-30</td>\n",
       "      <td>335.320007</td>\n",
       "      <td>337.779999</td>\n",
       "      <td>328.989990</td>\n",
       "      <td>330.589996</td>\n",
       "      <td>330.589996</td>\n",
       "      <td>42885600</td>\n",
       "    </tr>\n",
       "    <tr>\n",
       "      <th>9004</th>\n",
       "      <td>2021-12-01</td>\n",
       "      <td>335.130005</td>\n",
       "      <td>339.279999</td>\n",
       "      <td>329.390015</td>\n",
       "      <td>330.079987</td>\n",
       "      <td>330.079987</td>\n",
       "      <td>33337600</td>\n",
       "    </tr>\n",
       "    <tr>\n",
       "      <th>9005</th>\n",
       "      <td>2021-12-02</td>\n",
       "      <td>330.299988</td>\n",
       "      <td>333.489990</td>\n",
       "      <td>327.799988</td>\n",
       "      <td>329.489990</td>\n",
       "      <td>329.489990</td>\n",
       "      <td>30766000</td>\n",
       "    </tr>\n",
       "    <tr>\n",
       "      <th>9006</th>\n",
       "      <td>2021-12-03</td>\n",
       "      <td>331.989990</td>\n",
       "      <td>332.700012</td>\n",
       "      <td>318.029999</td>\n",
       "      <td>323.010010</td>\n",
       "      <td>323.010010</td>\n",
       "      <td>41755900</td>\n",
       "    </tr>\n",
       "    <tr>\n",
       "      <th>9007</th>\n",
       "      <td>2021-12-06</td>\n",
       "      <td>323.950012</td>\n",
       "      <td>327.450012</td>\n",
       "      <td>319.230011</td>\n",
       "      <td>326.190002</td>\n",
       "      <td>326.190002</td>\n",
       "      <td>30007300</td>\n",
       "    </tr>\n",
       "  </tbody>\n",
       "</table>\n",
       "<p>8988 rows × 7 columns</p>\n",
       "</div>"
      ],
      "text/plain": [
       "            Date        Open        High         Low       Close   Adj Close  \\\n",
       "0     1986-03-13    0.088542    0.101563    0.088542    0.097222    0.061378   \n",
       "1     1986-03-14    0.097222    0.102431    0.097222    0.100694    0.063570   \n",
       "2     1986-03-17    0.100694    0.103299    0.100694    0.102431    0.064667   \n",
       "3     1986-03-18    0.102431    0.103299    0.098958    0.099826    0.063022   \n",
       "4     1986-03-19    0.099826    0.100694    0.097222    0.098090    0.061926   \n",
       "...          ...         ...         ...         ...         ...         ...   \n",
       "9003  2021-11-30  335.320007  337.779999  328.989990  330.589996  330.589996   \n",
       "9004  2021-12-01  335.130005  339.279999  329.390015  330.079987  330.079987   \n",
       "9005  2021-12-02  330.299988  333.489990  327.799988  329.489990  329.489990   \n",
       "9006  2021-12-03  331.989990  332.700012  318.029999  323.010010  323.010010   \n",
       "9007  2021-12-06  323.950012  327.450012  319.230011  326.190002  326.190002   \n",
       "\n",
       "          Volume  \n",
       "0     1031788800  \n",
       "1      308160000  \n",
       "2      133171200  \n",
       "3       67766400  \n",
       "4       47894400  \n",
       "...          ...  \n",
       "9003    42885600  \n",
       "9004    33337600  \n",
       "9005    30766000  \n",
       "9006    41755900  \n",
       "9007    30007300  \n",
       "\n",
       "[8988 rows x 7 columns]"
      ]
     },
     "execution_count": 8,
     "metadata": {},
     "output_type": "execute_result"
    }
   ],
   "source": [
    "current_decade =ms[ms[\"High\"] > 0.098090]\n",
    "current_decade"
   ]
  },
  {
   "cell_type": "code",
   "execution_count": 9,
   "id": "8e2ce72a",
   "metadata": {},
   "outputs": [
    {
     "name": "stdout",
     "output_type": "stream",
     "text": [
      "Max is: Date         2021-12-06\n",
      "Open         344.619995\n",
      "High         349.670013\n",
      "Low          342.200012\n",
      "Close        343.109985\n",
      "Adj Close    343.109985\n",
      "Volume       1031788800\n",
      "dtype: object\n",
      "Sum is: Date         1986-03-131986-03-141986-03-171986-03-181986-0...\n",
      "Open                                             352218.514643\n",
      "High                                             355899.955663\n",
      "Low                                              348509.350384\n",
      "Close                                            352337.525314\n",
      "Adj Close                                        306745.074327\n",
      "Volume                                            530906710500\n",
      "dtype: object\n",
      "Mean is: Open         3.910063e+01\n",
      "High         3.950932e+01\n",
      "Low          3.868887e+01\n",
      "Close        3.911385e+01\n",
      "Adj Close    3.405252e+01\n",
      "Volume       5.893725e+07\n",
      "dtype: float64\n"
     ]
    },
    {
     "name": "stderr",
     "output_type": "stream",
     "text": [
      "C:\\Users\\DELL\\AppData\\Local\\Temp/ipykernel_4676/349332393.py:3: FutureWarning: Dropping of nuisance columns in DataFrame reductions (with 'numeric_only=None') is deprecated; in a future version this will raise TypeError.  Select only valid columns before calling the reduction.\n",
      "  print('Mean is:',ms.mean())\n"
     ]
    }
   ],
   "source": [
    "print('Max is:',ms.max())\n",
    "print('Sum is:',ms.sum())\n",
    "print('Mean is:',ms.mean())"
   ]
  },
  {
   "cell_type": "code",
   "execution_count": null,
   "id": "1ee7123b",
   "metadata": {},
   "outputs": [],
   "source": []
  },
  {
   "cell_type": "code",
   "execution_count": 13,
   "id": "f203a63e",
   "metadata": {},
   "outputs": [
    {
     "data": {
      "text/plain": [
       "<AxesSubplot:>"
      ]
     },
     "execution_count": 13,
     "metadata": {},
     "output_type": "execute_result"
    },
    {
     "data": {
      "image/png": "[encoded data removed]",
      "text/plain": [
       "<Figure size 432x288 with 1 Axes>"
      ]
     },
     "metadata": {
      "needs_background": "light"
     },
     "output_type": "display_data"
    }
   ],
   "source": [
    "#Check the nulls values on MSFT Dataset\n",
    "\n",
    "ms.isnull().count().plot.bar()"
   ]
  },
  {
   "cell_type": "code",
   "execution_count": 14,
   "id": "b98bc075",
   "metadata": {},
   "outputs": [
    {
     "data": {
      "image/png": "[encoded data removed]",
      "text/plain": [
       "<Figure size 432x288 with 1 Axes>"
      ]
     },
     "metadata": {
      "needs_background": "light"
     },
     "output_type": "display_data"
    }
   ],
   "source": [
    "#plot the regression line using Low and High Attributes\n",
    "\n",
    "ax=sns.regplot(x='High',y='Low',data=ms)"
   ]
  },
  {
   "cell_type": "code",
   "execution_count": 16,
   "id": "8ca17f4e",
   "metadata": {},
   "outputs": [],
   "source": [
    "#Plot High and Low Attributes using bar plot"
   ]
  },
  {
   "cell_type": "code",
   "execution_count": 17,
   "id": "2d3d5c10",
   "metadata": {},
   "outputs": [
    {
     "name": "stdout",
     "output_type": "stream",
     "text": [
      "27.500000     17\n",
      "0.364583      15\n",
      "26.000000     15\n",
      "0.381944      15\n",
      "0.369792      15\n",
      "              ..\n",
      "34.009998      1\n",
      "34.014999      1\n",
      "34.535000      1\n",
      "34.355000      1\n",
      "327.450012     1\n",
      "Name: High, Length: 5090, dtype: int64\n"
     ]
    },
    {
     "data": {
      "text/plain": [
       "<AxesSubplot:>"
      ]
     },
     "execution_count": 17,
     "metadata": {},
     "output_type": "execute_result"
    },
    {
     "data": {
      "image/png": "[encoded data removed]",
      "text/plain": [
       "<Figure size 432x288 with 1 Axes>"
      ]
     },
     "metadata": {
      "needs_background": "light"
     },
     "output_type": "display_data"
    }
   ],
   "source": [
    "price = ms['High'].value_counts()\n",
    "print(price)\n",
    "price.value_counts().plot.bar()"
   ]
  },
  {
   "cell_type": "code",
   "execution_count": 18,
   "id": "844b85af",
   "metadata": {},
   "outputs": [
    {
     "name": "stdout",
     "output_type": "stream",
     "text": [
      "25.500000     18\n",
      "0.378472      17\n",
      "27.000000     17\n",
      "2.656250      17\n",
      "0.359375      16\n",
      "              ..\n",
      "32.994999      1\n",
      "32.244999      1\n",
      "32.375000      1\n",
      "32.224998      1\n",
      "319.230011     1\n",
      "Name: Low, Length: 5108, dtype: int64\n"
     ]
    },
    {
     "data": {
      "text/plain": [
       "<AxesSubplot:>"
      ]
     },
     "execution_count": 18,
     "metadata": {},
     "output_type": "execute_result"
    },
    {
     "data": {
      "image/png": "[encoded data removed]",
      "text/plain": [
       "<Figure size 432x288 with 1 Axes>"
      ]
     },
     "metadata": {
      "needs_background": "light"
     },
     "output_type": "display_data"
    }
   ],
   "source": [
    "price1 = ms['Low'].value_counts()\n",
    "print(price1)\n",
    "price1.value_counts().plot.bar()"
   ]
  },
  {
   "cell_type": "code",
   "execution_count": 21,
   "id": "7655761c",
   "metadata": {},
   "outputs": [],
   "source": [
    "# Plot high and low vaiable to read easily manner using \"Plotly library\"\n",
    "\n",
    "import plotly.express as px\n",
    "#!pip install plotly==5.13.1"
   ]
  },
  {
   "cell_type": "code",
   "execution_count": 23,
   "id": "7bac43e5",
   "metadata": {},
   "outputs": [
    {
     "name": "stderr",
     "output_type": "stream",
     "text": [
      "C:\\ProgramData\\Anaconda3\\lib\\site-packages\\seaborn\\distributions.py:2619: FutureWarning: `distplot` is a deprecated function and will be removed in a future version. Please adapt your code to use either `displot` (a figure-level function with similar flexibility) or `histplot` (an axes-level function for histograms).\n",
      "  warnings.warn(msg, FutureWarning)\n"
     ]
    },
    {
     "data": {
      "text/plain": [
       "<AxesSubplot:xlabel='High', ylabel='Density'>"
      ]
     },
     "execution_count": 23,
     "metadata": {},
     "output_type": "execute_result"
    },
    {
     "data": {
      "image/png": "[encoded data removed]",
      "text/plain": [
       "<Figure size 432x288 with 1 Axes>"
      ]
     },
     "metadata": {
      "needs_background": "light"
     },
     "output_type": "display_data"
    }
   ],
   "source": [
    "#Distributiong of Age variable\n",
    "sns.distplot(ms['High'])"
   ]
  },
  {
   "cell_type": "code",
   "execution_count": 24,
   "id": "2997c805",
   "metadata": {},
   "outputs": [
    {
     "data": {
      "text/plain": [
       "<AxesSubplot:xlabel='High', ylabel='Count'>"
      ]
     },
     "execution_count": 24,
     "metadata": {},
     "output_type": "execute_result"
    },
    {
     "data": {
      "image/png": "[encoded data removed]",
      "text/plain": [
       "<Figure size 432x288 with 1 Axes>"
      ]
     },
     "metadata": {
      "needs_background": "light"
     },
     "output_type": "display_data"
    }
   ],
   "source": [
    "#Distributiong of Age variable\n",
    "sns.histplot(ms['High'])"
   ]
  },
  {
   "cell_type": "code",
   "execution_count": 25,
   "id": "e8e12569",
   "metadata": {},
   "outputs": [
    {
     "name": "stdout",
     "output_type": "stream",
     "text": [
      "18316800    4\n",
      "37843200    3\n",
      "84297600    3\n",
      "47894400    3\n",
      "12672000    3\n",
      "           ..\n",
      "41405200    1\n",
      "47878400    1\n",
      "63521600    1\n",
      "65263600    1\n",
      "30007300    1\n",
      "Name: Volume, Length: 8826, dtype: int64\n"
     ]
    },
    {
     "data": {
      "text/plain": [
       "<AxesSubplot:>"
      ]
     },
     "execution_count": 25,
     "metadata": {},
     "output_type": "execute_result"
    },
    {
     "data": {
      "image/png": "[encoded data removed]",
      "text/plain": [
       "<Figure size 432x288 with 1 Axes>"
      ]
     },
     "metadata": {
      "needs_background": "light"
     },
     "output_type": "display_data"
    }
   ],
   "source": [
    "#Plot and compare \"Volume\" attribute with \"High\"\n",
    "\n",
    "price = ms['Volume'].value_counts()\n",
    "print(price)\n",
    "\n",
    "price.value_counts().plot.bar()"
   ]
  },
  {
   "cell_type": "code",
   "execution_count": 26,
   "id": "8f6272ca",
   "metadata": {},
   "outputs": [
    {
     "data": {
      "text/plain": [
       "<seaborn.axisgrid.JointGrid at 0x2896d6dcbb0>"
      ]
     },
     "execution_count": 26,
     "metadata": {},
     "output_type": "execute_result"
    },
    {
     "data": {
      "image/png": "[encoded data removed]",
      "text/plain": [
       "<Figure size 432x432 with 3 Axes>"
      ]
     },
     "metadata": {
      "needs_background": "light"
     },
     "output_type": "display_data"
    }
   ],
   "source": [
    "# Join the both Volume and High for easily compare\n",
    "sns.jointplot(x = 'High', y = 'Volume',\n",
    "              data = ms, kind = 'kde', color = \"red\", alpha = 0.65)"
   ]
  },
  {
   "cell_type": "code",
   "execution_count": 27,
   "id": "9f1586de",
   "metadata": {},
   "outputs": [
    {
     "data": {
      "text/plain": [
       "<seaborn.axisgrid.JointGrid at 0x2896d9d7610>"
      ]
     },
     "execution_count": 27,
     "metadata": {},
     "output_type": "execute_result"
    },
    {
     "data": {
      "image/png": "[encoded data removed]",
      "text/plain": [
       "<Figure size 432x432 with 3 Axes>"
      ]
     },
     "metadata": {
      "needs_background": "light"
     },
     "output_type": "display_data"
    }
   ],
   "source": [
    "sns.jointplot(x = 'Low', y = 'Volume',\n",
    "              data = ms, kind = 'kde', color = \"red\", alpha = 0.65)"
   ]
  },
  {
   "cell_type": "code",
   "execution_count": 28,
   "id": "1df8916d",
   "metadata": {},
   "outputs": [
    {
     "data": {
      "text/plain": [
       "<seaborn.axisgrid.JointGrid at 0x2896c172a30>"
      ]
     },
     "execution_count": 28,
     "metadata": {},
     "output_type": "execute_result"
    },
    {
     "data": {
      "image/png": "[encoded data removed]",
      "text/plain": [
       "<Figure size 432x432 with 3 Axes>"
      ]
     },
     "metadata": {
      "needs_background": "light"
     },
     "output_type": "display_data"
    }
   ],
   "source": [
    "sns.jointplot(x = 'Close', y = 'Volume',\n",
    "              data = ms, kind = 'kde', color = \"red\", alpha = 0.65)"
   ]
  },
  {
   "cell_type": "code",
   "execution_count": 29,
   "id": "cbe28efd",
   "metadata": {},
   "outputs": [
    {
     "data": {
      "image/png": "[encoded data removed]",
      "text/plain": [
       "<Figure size 720x720 with 2 Axes>"
      ]
     },
     "metadata": {
      "needs_background": "light"
     },
     "output_type": "display_data"
    }
   ],
   "source": [
    "#draws  heatmap with input as the correlation matrix.\n",
    "\n",
    "plt.figure(figsize=(10,10)) \n",
    "sns.heatmap(ms.corr(),annot=True,cmap='cubehelix_r') \n",
    "plt.show()"
   ]
  },
  {
   "cell_type": "code",
   "execution_count": 30,
   "id": "daf25cfa",
   "metadata": {},
   "outputs": [
    {
     "data": {
      "image/png": "[encoded data removed]",
      "text/plain": [
       "<Figure size 1080x1080 with 6 Axes>"
      ]
     },
     "metadata": {
      "needs_background": "light"
     },
     "output_type": "display_data"
    }
   ],
   "source": [
    "ms.hist(edgecolor='black', linewidth=1.2)\n",
    "fig=plt.gcf()\n",
    "fig.set_size_inches(15,15)\n",
    "plt.show()"
   ]
  },
  {
   "cell_type": "code",
   "execution_count": 31,
   "id": "a08b19b4",
   "metadata": {},
   "outputs": [
    {
     "data": {
      "text/plain": [
       "<AxesSubplot:xlabel='High', ylabel='Volume'>"
      ]
     },
     "execution_count": 31,
     "metadata": {},
     "output_type": "execute_result"
    },
    {
     "data": {
      "image/png": "[encoded data removed]",
      "text/plain": [
       "<Figure size 1080x720 with 1 Axes>"
      ]
     },
     "metadata": {
      "needs_background": "light"
     },
     "output_type": "display_data"
    }
   ],
   "source": [
    "plt.figure(figsize=(15,10))\n",
    "plt.subplot(2,2,1)\n",
    "sns.violinplot(x='High',y='Volume',data=ms)"
   ]
  },
  {
   "cell_type": "code",
   "execution_count": null,
   "id": "c5635e96",
   "metadata": {},
   "outputs": [],
   "source": []
  },
  {
   "cell_type": "markdown",
   "id": "f60313ff",
   "metadata": {},
   "source": [
    "Making prediction using Machine Learnig Algorithms"
   ]
  },
  {
   "cell_type": "code",
   "execution_count": 33,
   "id": "11f38310",
   "metadata": {},
   "outputs": [],
   "source": [
    "# Drop the \"date\" attribute a\n",
    "ms.drop(['Date'], axis= 1, inplace=True)"
   ]
  },
  {
   "cell_type": "markdown",
   "id": "493e736d",
   "metadata": {},
   "source": [
    "Split dataset Into Train and Test Data"
   ]
  },
  {
   "cell_type": "code",
   "execution_count": 36,
   "id": "57cb0331",
   "metadata": {},
   "outputs": [],
   "source": [
    "X = ms.iloc[:, : -1]\n",
    "y = ms.iloc[:, -1]"
   ]
  },
  {
   "cell_type": "markdown",
   "id": "485b9b5c",
   "metadata": {},
   "source": [
    "Feature Scaling"
   ]
  },
  {
   "cell_type": "code",
   "execution_count": 37,
   "id": "565ded20",
   "metadata": {},
   "outputs": [],
   "source": [
    "from sklearn.preprocessing import StandardScaler\n",
    "sc = StandardScaler()"
   ]
  },
  {
   "cell_type": "code",
   "execution_count": 39,
   "id": "7ffae5c0",
   "metadata": {},
   "outputs": [
    {
     "data": {
      "text/plain": [
       "array([[-0.71331937, -0.71401569, -0.71240823, -0.71298882, -0.61866861],\n",
       "       [-0.71316066, -0.71399996, -0.71224803, -0.71292538, -0.61862871],\n",
       "       [-0.71309718, -0.71398423, -0.71218395, -0.71289364, -0.61860875],\n",
       "       ...,\n",
       "       [ 5.32445526,  5.32653531,  5.33583893,  5.30632648,  5.37722168],\n",
       "       [ 5.35535622,  5.31222197,  5.15552387,  5.18791149,  5.25928035],\n",
       "       [ 5.20834868,  5.21709901,  5.17767131,  5.24602258,  5.317159  ]])"
      ]
     },
     "execution_count": 39,
     "metadata": {},
     "output_type": "execute_result"
    }
   ],
   "source": [
    "#Fit the model\n",
    "X = sc.fit_transform(X)\n",
    "X"
   ]
  },
  {
   "cell_type": "code",
   "execution_count": 41,
   "id": "281e117d",
   "metadata": {},
   "outputs": [],
   "source": [
    "X_train, X_test, y_train, y_test = train_test_split(X, y, test_size=0.3, random_state=1)"
   ]
  },
  {
   "cell_type": "code",
   "execution_count": 44,
   "id": "e864faa8",
   "metadata": {},
   "outputs": [],
   "source": [
    "from sklearn.pipeline import make_pipeline\n",
    "from sklearn.datasets import make_classification"
   ]
  },
  {
   "cell_type": "code",
   "execution_count": 45,
   "id": "4fad109a",
   "metadata": {},
   "outputs": [
    {
     "data": {
      "text/plain": [
       "Pipeline(steps=[('standardscaler', StandardScaler()),\n",
       "                ('logisticregression', LogisticRegression())])"
      ]
     },
     "execution_count": 45,
     "metadata": {},
     "output_type": "execute_result"
    }
   ],
   "source": [
    "# apply scaling on training data\n",
    "\n",
    "X, y = make_classification(random_state=42)\n",
    "X_train, X_test, y_train, y_test = train_test_split(X, y, random_state=42)\n",
    "pipe = make_pipeline(StandardScaler(), LogisticRegression())\n",
    "pipe.fit(X_train, y_train) "
   ]
  },
  {
   "cell_type": "code",
   "execution_count": null,
   "id": "48d757d3",
   "metadata": {},
   "outputs": [],
   "source": []
  },
  {
   "cell_type": "markdown",
   "id": "0ba0214b",
   "metadata": {},
   "source": [
    "Fitting Logistic Regression on trainig set"
   ]
  },
  {
   "cell_type": "code",
   "execution_count": null,
   "id": "bc68815e",
   "metadata": {},
   "outputs": [],
   "source": []
  },
  {
   "cell_type": "code",
   "execution_count": 46,
   "id": "c8882ae6",
   "metadata": {},
   "outputs": [
    {
     "name": "stdout",
     "output_type": "stream",
     "text": [
      "[0, 1, 1, 1, 0, 1, 0, 1, 1, 0, 0, 0, 0, 0, 0, 0, 1, 0, 0, 0, 0, 1, 1, 1, 0]\n"
     ]
    }
   ],
   "source": [
    "lr = LogisticRegression()\n",
    "lr.fit(X_train, y_train)\n",
    "pred_lr = lr.predict(X_test)\n",
    "print(list(pred_lr))"
   ]
  },
  {
   "cell_type": "code",
   "execution_count": 48,
   "id": "7af3a707",
   "metadata": {},
   "outputs": [
    {
     "name": "stdout",
     "output_type": "stream",
     "text": [
      "              precision    recall  f1-score   support\n",
      "\n",
      "           0       1.00      1.00      1.00        15\n",
      "           1       1.00      1.00      1.00        10\n",
      "\n",
      "    accuracy                           1.00        25\n",
      "   macro avg       1.00      1.00      1.00        25\n",
      "weighted avg       1.00      1.00      1.00        25\n",
      "\n",
      "\n",
      "\n",
      "[[15  0]\n",
      " [ 0 10]]\n"
     ]
    }
   ],
   "source": [
    "from sklearn.metrics import classification_report\n",
    "\n",
    "print(classification_report( y_test, pred_lr))\n",
    "\n",
    "print(\"\\n\")\n",
    "\n",
    "print(confusion_matrix(y_test, pred_lr))"
   ]
  },
  {
   "cell_type": "code",
   "execution_count": 50,
   "id": "ebea995c",
   "metadata": {},
   "outputs": [
    {
     "data": {
      "text/plain": [
       "LogisticRegression(random_state=0)"
      ]
     },
     "execution_count": 50,
     "metadata": {},
     "output_type": "execute_result"
    }
   ],
   "source": [
    "LR = LogisticRegression(random_state=0)\n",
    "LR.fit(X_train, y_train)"
   ]
  },
  {
   "cell_type": "code",
   "execution_count": null,
   "id": "ce65fbed",
   "metadata": {},
   "outputs": [],
   "source": []
  },
  {
   "cell_type": "markdown",
   "id": "9c8503df",
   "metadata": {},
   "source": [
    "Predicting Test set "
   ]
  },
  {
   "cell_type": "code",
   "execution_count": 51,
   "id": "1b561f0e",
   "metadata": {},
   "outputs": [
    {
     "name": "stdout",
     "output_type": "stream",
     "text": [
      "[0, 1, 1, 1, 0, 1, 0, 1, 1, 0, 0, 0, 0, 0, 0, 0, 1, 0, 0, 0, 0, 1, 1, 1, 0]\n"
     ]
    }
   ],
   "source": [
    "# Predicting the Test set results\n",
    "y_pred = LR.predict(X_test)\n",
    "print(list(y_pred ))"
   ]
  },
  {
   "cell_type": "code",
   "execution_count": null,
   "id": "56d666b0",
   "metadata": {},
   "outputs": [],
   "source": []
  },
  {
   "cell_type": "markdown",
   "id": "fd9c3791",
   "metadata": {},
   "source": [
    "Probability Of All Values"
   ]
  },
  {
   "cell_type": "code",
   "execution_count": 52,
   "id": "481179cd",
   "metadata": {},
   "outputs": [
    {
     "data": {
      "text/plain": [
       "array([[8.43664348e-01, 1.56335652e-01],\n",
       "       [1.19065922e-03, 9.98809341e-01],\n",
       "       [2.13781577e-02, 9.78621842e-01],\n",
       "       [3.38249203e-02, 9.66175080e-01],\n",
       "       [9.99946888e-01, 5.31121030e-05],\n",
       "       [2.36352523e-02, 9.76364748e-01],\n",
       "       [9.77335071e-01, 2.26649288e-02],\n",
       "       [3.62880927e-01, 6.37119073e-01],\n",
       "       [7.08963650e-02, 9.29103635e-01],\n",
       "       [5.00186393e-01, 4.99813607e-01]])"
      ]
     },
     "execution_count": 52,
     "metadata": {},
     "output_type": "execute_result"
    }
   ],
   "source": [
    "#probability of all values\n",
    "proba = LR.predict_proba(X_test)[0:10,:]\n",
    "proba"
   ]
  },
  {
   "cell_type": "code",
   "execution_count": null,
   "id": "787bbe3c",
   "metadata": {},
   "outputs": [],
   "source": []
  },
  {
   "cell_type": "markdown",
   "id": "9dff8572",
   "metadata": {},
   "source": [
    "Confusion Matrix"
   ]
  },
  {
   "cell_type": "code",
   "execution_count": 53,
   "id": "7cead719",
   "metadata": {},
   "outputs": [
    {
     "name": "stdout",
     "output_type": "stream",
     "text": [
      "[[15  0]\n",
      " [ 0 10]]\n"
     ]
    }
   ],
   "source": [
    "cm = confusion_matrix(y_test , y_pred)\n",
    "print(cm)"
   ]
  },
  {
   "cell_type": "code",
   "execution_count": 54,
   "id": "3007ed01",
   "metadata": {},
   "outputs": [
    {
     "data": {
      "text/plain": [
       "<AxesSubplot:>"
      ]
     },
     "execution_count": 54,
     "metadata": {},
     "output_type": "execute_result"
    },
    {
     "data": {
      "image/png": "[encoded data removed]",
      "text/plain": [
       "<Figure size 432x288 with 2 Axes>"
      ]
     },
     "metadata": {
      "needs_background": "light"
     },
     "output_type": "display_data"
    }
   ],
   "source": [
    "#Plot the Heatmap\n",
    "\n",
    "sns.heatmap(cm)"
   ]
  },
  {
   "cell_type": "markdown",
   "id": "7185b6bf",
   "metadata": {},
   "source": [
    "There are no errors found. "
   ]
  },
  {
   "cell_type": "code",
   "execution_count": null,
   "id": "cb2f7459",
   "metadata": {},
   "outputs": [],
   "source": []
  },
  {
   "cell_type": "markdown",
   "id": "7750c556",
   "metadata": {},
   "source": [
    "Accuracy Test"
   ]
  },
  {
   "cell_type": "code",
   "execution_count": 55,
   "id": "c31602c1",
   "metadata": {},
   "outputs": [
    {
     "name": "stdout",
     "output_type": "stream",
     "text": [
      "The Accuracy is  100.0\n"
     ]
    }
   ],
   "source": [
    "from sklearn.metrics import accuracy_score\n",
    "\n",
    "ac = accuracy_score(y_test , pred_lr)*100\n",
    "print(\"The Accuracy is \", ac)"
   ]
  },
  {
   "cell_type": "code",
   "execution_count": null,
   "id": "0179ed35",
   "metadata": {},
   "outputs": [],
   "source": []
  }
 ],
 "metadata": {
  "kernelspec": {
   "display_name": "Python 3 (ipykernel)",
   "language": "python",
   "name": "python3"
  },
  "language_info": {
   "codemirror_mode": {
    "name": "ipython",
    "version": 3
   },
   "file_extension": ".py",
   "mimetype": "text/x-python",
   "name": "python",
   "nbconvert_exporter": "python",
   "pygments_lexer": "ipython3",
   "version": "3.9.7"
  }
 },
 "nbformat": 4,
 "nbformat_minor": 5
}
